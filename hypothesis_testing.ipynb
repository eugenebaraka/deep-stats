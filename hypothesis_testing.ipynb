{
 "cells": [
  {
   "cell_type": "markdown",
   "metadata": {},
   "source": [
    "# Hypothesis Testing"
   ]
  },
  {
   "cell_type": "markdown",
   "metadata": {},
   "source": [
    "Assume the null hypothesis is true, and then gather data to see if there is enough evidence to disprove this assumption. \n",
    "- this allows to not make hasty decisions which may be based on randomness in the data\n",
    "- we also quantify uncertainty in our results\n",
    "\n",
    "P-values: the probability of seeing the observed data, given the null hypothesis is true. \n",
    "\n",
    "Low p-value: there observed data is less likely to be seen if the null hypothesis is true, so we have enough evidence to reject the null hypothesis. \n",
    "\n",
    "High p-value: we're more likely to see the observed data under the null hypothesis. This translates to not having enough evidence to reject the null hypothesis. We never ACCEPT the null hypothesis. \n",
    "\n",
    "P-values are controversial nowadays. The p = 0.05 significance level was arbitrarily chosen by Ronald Fisher in 1920s; which means, for example in the medical field, p = 0.051 might deem the treatment worthless while p = 0.049 means it is amazing. "
   ]
  },
  {
   "cell_type": "markdown",
   "metadata": {},
   "source": [
    "## Which test is appropriate for your data?"
   ]
  },
  {
   "cell_type": "markdown",
   "metadata": {},
   "source": [
    "There are various types of hypothesis testing and which type to use depends on what kind of data we have. Broadly, categorical and continuous data types have different hypothesis testing techiques. "
   ]
  },
  {
   "cell_type": "markdown",
   "metadata": {},
   "source": [
    "### Continous Data\n",
    "\n",
    "#### T-test"
   ]
  },
  {
   "cell_type": "markdown",
   "metadata": {},
   "source": [
    "Determining if data from two sources come from the same normal distribution by: \n",
    "- comparing means of two datasets\n",
    "- assuming the have equal variances\n",
    "- determine whether a single process could've yielded both data sets. \n"
   ]
  },
  {
   "cell_type": "code",
   "execution_count": 2,
   "metadata": {},
   "outputs": [],
   "source": [
    "# loading libraries\n",
    "import numpy as np\n",
    "import pandas as pd\n",
    "import seaborn as sns\n",
    "import matplotlib.pyplot as plt"
   ]
  },
  {
   "cell_type": "code",
   "execution_count": 34,
   "metadata": {},
   "outputs": [
    {
     "data": {
      "image/png": "[encoded data removed]",
      "text/plain": [
       "<Figure size 432x288 with 1 Axes>"
      ]
     },
     "metadata": {
      "needs_background": "light"
     },
     "output_type": "display_data"
    }
   ],
   "source": [
    "np.random.seed(123)\n",
    "drug = np.random.normal(loc= 4, scale=1, size = 2000)\n",
    "placebo = np.random.normal(loc=3, scale=1, size = 2000)\n",
    "\n",
    "bins = np.linspace(1, 10, 100)\n",
    "plt.hist(drug, bins, alpha = 0.4, label = \"drug\")\n",
    "plt.hist(placebo, bins, alpha = 0.4, label = \"placebo\")\n",
    "plt.title('Placebo vs Drug Blood Pressure Levels')\n",
    "plt.xlabel('Blood Pressure')\n",
    "plt.legend()\n",
    "plt.show()"
   ]
  },
  {
   "cell_type": "markdown",
   "metadata": {},
   "source": [
    "Do these two curve come from a the same distribution? Meaning, does the drug have any effect on the blood pressure? \n",
    "\n",
    "##### One-sample test"
   ]
  },
  {
   "cell_type": "markdown",
   "metadata": {},
   "source": [
    "$$ t = \\frac{\\overline{x} - \\mu_{test}}{\\left(s\\,\\big/ \\sqrt{n}\\right)}$$\n",
    "\n",
    "- t : t-statistic\n",
    "- $\\overline{x}$ : sample mean\n",
    "- $\\mu$ : value we're testing against\n",
    "- s: standard deviation\n",
    "- n: sample size\n",
    "\n"
   ]
  },
  {
   "cell_type": "markdown",
   "metadata": {},
   "source": [
    "For this kind of t test, we compare the mean of measured group to a known mean. For example, we know a competing store has $45 average customer spend and we want to see if there is a statistical difference between their average customer spend and ours. "
   ]
  },
  {
   "cell_type": "code",
   "execution_count": 38,
   "metadata": {},
   "outputs": [],
   "source": [
    "from scipy import stats\n",
    "from scipy.stats import norm #for plotting"
   ]
  },
  {
   "cell_type": "code",
   "execution_count": 42,
   "metadata": {},
   "outputs": [
    {
     "name": "stdout",
     "output_type": "stream",
     "text": [
      "Ttest_1sampResult(statistic=-35.12834810994164, pvalue=8.252807994169369e-242)\n"
     ]
    }
   ],
   "source": [
    "our_store = np.random.normal(loc = 44, scale = 2, size = 5000)\n",
    "one_sample_test = stats.ttest_1samp(our_store, 45)\n",
    "print(one_sample_test)\n"
   ]
  },
  {
   "cell_type": "markdown",
   "metadata": {},
   "source": [
    "- T-statistic: -35.13\n",
    "- p-value: the probability of seeing the observed average customer spend, *given the average spend is the same for both stores* (our store and the competing store). It is very small, hence we have enough evidence to reject the null (our customer spend = competitor's customer spend). In other words, under the null hypothesis, we have 8.252807994169369e-240 % chance of seeing the observed data. "
   ]
  },
  {
   "cell_type": "markdown",
   "metadata": {},
   "source": [
    "Assumptions:\n",
    "- Independence\n",
    "- Mean of sample comes from a normal distribution (either sample is normally distributed or it is large enough to assume CLT)\n",
    "- Variance of our known sample is the same as that of unknown sample. "
   ]
  },
  {
   "cell_type": "markdown",
   "metadata": {},
   "source": [
    "#### Two-sample unpaired t-test"
   ]
  },
  {
   "cell_type": "markdown",
   "metadata": {},
   "source": [
    "We use this test, when we have both samples. In the above example, in addition to our data, we also have our competitor's. Then we can test if we have different average customer spends. \n",
    "\n",
    "Hypothesis test: the average customer spend is the same between two stores\n",
    "Alternative: the average customer spends are different\n",
    "\n",
    "The t-statistic calculation: \n",
    "\n",
    "$$ t = \\frac{(\\overline{X}_1 - \\overline{X}_2) - (\\mu_1 - \\mu_2)}{s_p \\sqrt{\\frac{1}{n_1}+\\frac{1}{n_2}}}$$\n",
    "\n",
    "- $\\overline{X}_1$ and $\\overline{X}_2$ : sample means\n",
    "- $(\\mu_1 - \\mu_2)$ : population mean difference we are testing against, usually zero if we are testing against the null as above\n",
    "- $s_p$ : pooled standard deviation\n",
    "\n",
    "$$s_p = \\sqrt{\\frac{(n_1 - 1)s_1^2 + (n_2 - 1)s_2^2}{n_1 + n_2 - 2}}$$\n",
    "\n",
    "$s_1^2$ and $s_2^2$: two sample variances"
   ]
  },
  {
   "cell_type": "code",
   "execution_count": 43,
   "metadata": {},
   "outputs": [
    {
     "name": "stdout",
     "output_type": "stream",
     "text": [
      "Ttest_indResult(statistic=-115.3409680239054, pvalue=0.0)\n"
     ]
    }
   ],
   "source": [
    "#generating the competing store's purchases\n",
    "competing_store = np.random.normal(loc = 48, scale = 1, size = 4000)\n",
    "two_sample_test = stats.ttest_ind(our_store, competing_store)\n",
    "print(two_sample_test)"
   ]
  },
  {
   "cell_type": "markdown",
   "metadata": {},
   "source": [
    "The average customer spend for our store is 44 and that of competing store is 48. With the two-sample t-test, we have enough evidence to reject the null hypothesis with a p-value of 0. We can conclude that there is a statistically significant difference in average customer spend between the two stores. "
   ]
  },
  {
   "cell_type": "markdown",
   "metadata": {},
   "source": [
    "Assumptions: \n",
    "- Independence within each sample\n",
    "- Sample A independent from sample B\n",
    "- Both samples are from a normal distribution (are normally distributed or large enough to assume CLT)\n",
    "- Variances are identical\n"
   ]
  },
  {
   "cell_type": "code",
   "execution_count": 44,
   "metadata": {},
   "outputs": [
    {
     "name": "stdout",
     "output_type": "stream",
     "text": [
      "3.9965225140207257\n",
      "1.0358648106604913\n"
     ]
    }
   ],
   "source": [
    "print(np.var(our_store))\n",
    "print(np.var(competing_store))"
   ]
  },
  {
   "cell_type": "markdown",
   "metadata": {},
   "source": [
    "Our last assumption about equal variance is violated. This was purposely done when defining the scale argument in both samples. "
   ]
  },
  {
   "cell_type": "markdown",
   "metadata": {},
   "source": [
    "#### Two-sample Paired t-test"
   ]
  },
  {
   "cell_type": "markdown",
   "metadata": {},
   "source": [
    "The difference in customer spend between two stores above might be due to different kind of customers visiting the stores, rather than difference between spending when shopping. "
   ]
  },
  {
   "cell_type": "markdown",
   "metadata": {},
   "source": []
  }
 ],
 "metadata": {
  "kernelspec": {
   "display_name": "Python 3.9.12 ('base')",
   "language": "python",
   "name": "python3"
  },
  "language_info": {
   "codemirror_mode": {
    "name": "ipython",
    "version": 3
   },
   "file_extension": ".py",
   "mimetype": "text/x-python",
   "name": "python",
   "nbconvert_exporter": "python",
   "pygments_lexer": "ipython3",
   "version": "3.9.12"
  },
  "orig_nbformat": 4,
  "vscode": {
   "interpreter": {
    "hash": "b09fb76671cc417157557290b6d443bf1459bd305c8e4ba26dbf59e96553c659"
   }
  }
 },
 "nbformat": 4,
 "nbformat_minor": 2
}
