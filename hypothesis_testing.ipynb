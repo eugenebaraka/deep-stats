{
 "cells": [
  {
   "cell_type": "markdown",
   "metadata": {},
   "source": [
    "# Hypothesis Testing"
   ]
  },
  {
   "cell_type": "markdown",
   "metadata": {},
   "source": [
    "Assume the null hypothesis is true, and then gather data to see if there is enough evidence to disprove this assumption. \n",
    "- this allows to not make hasty decisions which may be based on randomness in the data\n",
    "- we also quantify uncertainty in our results\n",
    "\n",
    "P-values: the probability of seeing the observed data, given the null hypothesis is true. \n",
    "\n",
    "Low p-value: there observed data is less likely to be seen if the null hypothesis is true, so we have enough evidence to reject the null hypothesis. \n",
    "\n",
    "High p-value: we're more likely to see the observed data under the null hypothesis. This translates to not having enough evidence to reject the null hypothesis. We never ACCEPT the null hypothesis. \n",
    "\n",
    "P-values are controversial nowadays. The p = 0.05 significance level was arbitrarily chosen by Ronald Fisher in 1920s; which means, for example in the medical field, p = 0.051 might deem the treatment worthless while p = 0.049 means it is amazing. "
   ]
  },
  {
   "cell_type": "markdown",
   "metadata": {},
   "source": [
    "## Which test is appropriate for your data?"
   ]
  },
  {
   "cell_type": "markdown",
   "metadata": {},
   "source": [
    "There are various types of hypothesis testing and which type to use depends on what kind of data we have. Broadly, categorical and continuous data types have different hypothesis testing techiques. "
   ]
  },
  {
   "cell_type": "markdown",
   "metadata": {},
   "source": [
    "### Continous Data\n",
    "\n",
    "#### T-test"
   ]
  },
  {
   "cell_type": "markdown",
   "metadata": {},
   "source": [
    "Determining if data from two sources come from the same normal distribution by: \n",
    "- comparing means of two datasets\n",
    "- assuming the have equal variances\n",
    "- determine whether a single process could've yielded both data sets. \n"
   ]
  },
  {
   "cell_type": "code",
   "execution_count": 1,
   "metadata": {},
   "outputs": [],
   "source": [
    "# loading libraries\n",
    "import numpy as np\n",
    "import pandas as pd\n",
    "import seaborn as sns\n",
    "import matplotlib.pyplot as plt"
   ]
  },
  {
   "cell_type": "code",
   "execution_count": 2,
   "metadata": {},
   "outputs": [
    {
     "data": {
      "image/png": "[encoded data removed]",
      "text/plain": [
       "<Figure size 432x288 with 1 Axes>"
      ]
     },
     "metadata": {
      "needs_background": "light"
     },
     "output_type": "display_data"
    }
   ],
   "source": [
    "np.random.seed(123)\n",
    "drug = np.random.normal(loc= 4, scale=1, size = 2000)\n",
    "placebo = np.random.normal(loc=3, scale=1, size = 2000)\n",
    "\n",
    "bins = np.linspace(1, 10, 100)\n",
    "plt.hist(drug, bins, alpha = 0.4, label = \"drug\")\n",
    "plt.hist(placebo, bins, alpha = 0.4, label = \"placebo\")\n",
    "plt.title('Placebo vs Drug Blood Pressure Levels')\n",
    "plt.xlabel('Blood Pressure')\n",
    "plt.legend()\n",
    "plt.show()"
   ]
  },
  {
   "cell_type": "markdown",
   "metadata": {},
   "source": [
    "Do these two curve come from a the same distribution? Meaning, does the drug have any effect on the blood pressure? \n",
    "\n",
    "##### One-sample test"
   ]
  },
  {
   "cell_type": "markdown",
   "metadata": {},
   "source": [
    "$$ t = \\frac{\\overline{x} - \\mu_{test}}{\\left(s\\,\\big/ \\sqrt{n}\\right)}$$\n",
    "\n",
    "- t : t-statistic\n",
    "- $\\overline{x}$ : sample mean\n",
    "- $\\mu$ : value we're testing against\n",
    "- s: standard deviation\n",
    "- n: sample size\n",
    "\n"
   ]
  },
  {
   "cell_type": "markdown",
   "metadata": {},
   "source": [
    "For this kind of t test, we compare the mean of measured group to a known mean. For example, we know a competing store has $45 average customer spend and we want to see if there is a statistical difference between their average customer spend and ours. "
   ]
  },
  {
   "cell_type": "code",
   "execution_count": 3,
   "metadata": {},
   "outputs": [],
   "source": [
    "from scipy import stats\n",
    "from scipy.stats import norm #for plotting"
   ]
  },
  {
   "cell_type": "code",
   "execution_count": 4,
   "metadata": {},
   "outputs": [
    {
     "name": "stdout",
     "output_type": "stream",
     "text": [
      "Ttest_1sampResult(statistic=-34.13173452047687, pvalue=1.035101922561534e-229)\n"
     ]
    }
   ],
   "source": [
    "our_store = np.random.normal(loc = 44, scale = 2, size = 5000)\n",
    "one_sample_test = stats.ttest_1samp(our_store, 45)\n",
    "print(one_sample_test)\n"
   ]
  },
  {
   "cell_type": "markdown",
   "metadata": {},
   "source": [
    "- T-statistic: -35.13\n",
    "- p-value: the probability of seeing the observed average customer spend, *given the average spend is the same for both stores* (our store and the competing store). It is very small, hence we have enough evidence to reject the null (our customer spend = competitor's customer spend). In other words, under the null hypothesis, we have 8.252807994169369e-240 % chance of seeing the observed data. "
   ]
  },
  {
   "cell_type": "markdown",
   "metadata": {},
   "source": [
    "Assumptions:\n",
    "- Independence\n",
    "- Mean of sample comes from a normal distribution (either sample is normally distributed or it is large enough to assume CLT)\n",
    "- Variance of our known sample is the same as that of unknown sample. "
   ]
  },
  {
   "cell_type": "markdown",
   "metadata": {},
   "source": [
    "#### Two-sample unpaired t-test"
   ]
  },
  {
   "cell_type": "markdown",
   "metadata": {},
   "source": [
    "We use this test, when we have both samples. In the above example, in addition to our data, we also have our competitor's. Then we can test if we have different average customer spends. \n",
    "\n",
    "Hypothesis test: the average customer spend is the same between two stores\n",
    "Alternative: the average customer spends are different\n",
    "\n",
    "The t-statistic calculation: \n",
    "\n",
    "$$ t = \\frac{(\\overline{X}_1 - \\overline{X}_2) - (\\mu_1 - \\mu_2)}{s_p \\sqrt{\\frac{1}{n_1}+\\frac{1}{n_2}}}$$\n",
    "\n",
    "- $\\overline{X}_1$ and $\\overline{X}_2$ : sample means\n",
    "- $(\\mu_1 - \\mu_2)$ : population mean difference we are testing against, usually zero if we are testing against the null as above\n",
    "- $s_p$ : pooled standard deviation\n",
    "\n",
    "$$s_p = \\sqrt{\\frac{(n_1 - 1)s_1^2 + (n_2 - 1)s_2^2}{n_1 + n_2 - 2}}$$\n",
    "\n",
    "$s_1^2$ and $s_2^2$: two sample variances"
   ]
  },
  {
   "cell_type": "code",
   "execution_count": 5,
   "metadata": {},
   "outputs": [
    {
     "name": "stdout",
     "output_type": "stream",
     "text": [
      "Ttest_indResult(statistic=-114.56526583337373, pvalue=0.0)\n"
     ]
    }
   ],
   "source": [
    "#generating the competing store's purchases\n",
    "competing_store = np.random.normal(loc = 48, scale = 1, size = 4000)\n",
    "two_sample_test = stats.ttest_ind(our_store, competing_store)\n",
    "print(two_sample_test)"
   ]
  },
  {
   "cell_type": "markdown",
   "metadata": {},
   "source": [
    "The average customer spend for our store is 44 and that of competing store is 48. With the two-sample t-test, we have enough evidence to reject the null hypothesis with a p-value of 0. We can conclude that there is a statistically significant difference in average customer spend between the two stores. "
   ]
  },
  {
   "cell_type": "markdown",
   "metadata": {},
   "source": [
    "Assumptions: \n",
    "- Independence within each sample\n",
    "- Sample A independent from sample B\n",
    "- Both samples are from a normal distribution (are normally distributed or large enough to assume CLT)\n",
    "- Variances are identical\n"
   ]
  },
  {
   "cell_type": "code",
   "execution_count": 44,
   "metadata": {},
   "outputs": [
    {
     "name": "stdout",
     "output_type": "stream",
     "text": [
      "3.9965225140207257\n",
      "1.0358648106604913\n"
     ]
    }
   ],
   "source": [
    "print(np.var(our_store))\n",
    "print(np.var(competing_store))"
   ]
  },
  {
   "cell_type": "markdown",
   "metadata": {},
   "source": [
    "Our last assumption about equal variance is violated. This was purposely done when defining the scale argument in both samples. "
   ]
  },
  {
   "cell_type": "markdown",
   "metadata": {},
   "source": [
    "#### Two-sample Paired t-test"
   ]
  },
  {
   "cell_type": "markdown",
   "metadata": {},
   "source": [
    "The difference in customer spend between two stores above might be due to different kind of customers visiting the stores, rather than difference between spending when shopping. \n",
    "\n",
    "Paired t-test: the same customer bought from the two stores and we compare the spend per customer between both stores. "
   ]
  },
  {
   "cell_type": "code",
   "execution_count": 8,
   "metadata": {},
   "outputs": [
    {
     "name": "stdout",
     "output_type": "stream",
     "text": [
      "Ttest_relResult(statistic=-115.02070584207591, pvalue=0.0)\n"
     ]
    }
   ],
   "source": [
    "paired_test = stats.ttest_rel(our_store[:4000], competing_store) \n",
    "#both arrays must have the same shape\n",
    "print(paired_test)"
   ]
  },
  {
   "cell_type": "markdown",
   "metadata": {},
   "source": [
    "Unpaired test: tests differences of means\n",
    "Paired test: tests mean of differences\n",
    "\n",
    "Assumptions for paired t-test:\n",
    "- Two samples are dependent to each other(they are paired/matched)\n",
    "- Data points within each sample are independent\n",
    "- The mean of samples come from a normal distribution/CLT can be assumed\n",
    "- Variances of sample are identical"
   ]
  },
  {
   "cell_type": "code",
   "execution_count": 17,
   "metadata": {},
   "outputs": [
    {
     "data": {
      "image/png": "[encoded data removed]",
      "text/plain": [
       "<Figure size 432x288 with 1 Axes>"
      ]
     },
     "metadata": {
      "needs_background": "light"
     },
     "output_type": "display_data"
    }
   ],
   "source": [
    "#finding p-values: they come from from a t-distribution\n",
    "\n",
    "fill_range = np.arange(-3, -1.96, 0.01)\n",
    "fill_range1 = np.arange(1.96, 3, 0.01)\n",
    "xvals = np.arange(-3, 3, 0.01)\n",
    "mean = 0\n",
    "sdev = 1\n",
    "\n",
    "plt.figure()\n",
    "plt.plot(xvals,  norm.pdf(xvals, loc = mean, scale = sdev))\n",
    "plt.xlabel('t-statistic')\n",
    "plt.ylabel('probability')\n",
    "plt.xlim(-3, 3)\n",
    "plt.fill_between(fill_range, norm.pdf(fill_range, loc = mean, scale = sdev))\n",
    "plt.fill_between(fill_range1, norm.pdf(fill_range1, loc = mean, scale = sdev))\n",
    "plt.title('the t-statistic is 1.96')\n",
    "plt.show()"
   ]
  },
  {
   "cell_type": "markdown",
   "metadata": {},
   "source": [
    "p values: calculated by combining t-statistic with the probability distribution related to the test. how likely is it to observe a test statistic this extreme or more, given the probability distribution (the area under the curve of the distribution beyond where the t statistic falls)"
   ]
  },
  {
   "cell_type": "code",
   "execution_count": 25,
   "metadata": {},
   "outputs": [
    {
     "data": {
      "image/png": "[encoded data removed]",
      "text/plain": [
       "<Figure size 432x288 with 1 Axes>"
      ]
     },
     "metadata": {
      "needs_background": "light"
     },
     "output_type": "display_data"
    }
   ],
   "source": [
    "### evaluating time spent on website\n",
    "\n",
    "time_spent = np.array([139.43, 106.18, 158.65, 123.75, 115.59, 147.74, 147.19, 117.27,\n",
    "       130.31,  85.15, 153.  , 149.84, 149.07,  89.57, 123.32, 130.04,\n",
    "       138.11, 135.78, 156.42,  99.06, 125.95, 116.88, 133.87, 141.07,\n",
    "       156.36, 120.61, 143.51,  93.66, 126.34, 151.18, 122.04, 136.75,\n",
    "       150.95, 150.92, 147.27, 127.56, 132.49, 123.54, 146.83, 177.82,\n",
    "       131.52, 118.67, 130.72,  88.5 , 134.96, 112.06, 127.26, 130.37,\n",
    "       145.11, 134.31, 146.82, 101.08, 101.96, 127.98, 119.04, 127.11,\n",
    "       137.08, 129.29, 141.31, 160.91, 110.52, 128.59, 136.16, 125.83,\n",
    "       150.68,  81.99, 170.61, 107.15, 134.24, 144.09, 114.29, 139.24,\n",
    "       144.08, 140.47, 111.47, 170.16, 134.54, 106.95, 142.64, 130.79,\n",
    "       139.29,  58.73, 156.42, 133.05, 133.29, 121.4 , 145.35, 149.7 ,\n",
    "       135.42, 157.84, 131.6 , 122.  , 109.44, 118.31, 146.33, 128.36,\n",
    "       123.1 , 140.57, 108.62, 119.76])\n",
    "\n",
    "plt.figure()\n",
    "plt.hist(time_spent)\n",
    "plt.xlabel('time spent on website')\n",
    "plt.ylabel('Frequency')\n",
    "plt.title('distribution of time spent on website')\n",
    "plt.show()"
   ]
  },
  {
   "cell_type": "code",
   "execution_count": 27,
   "metadata": {},
   "outputs": [
    {
     "name": "stdout",
     "output_type": "stream",
     "text": [
      "Ttest_1sampResult(statistic=5.347286869284019, pvalue=5.746880238630438e-07)\n"
     ]
    }
   ],
   "source": [
    "#is the time spent on our website different from our competitor's (100s)?\n",
    "t_test = stats.ttest_1samp(time_spent, 120)\n",
    "print(t_test)"
   ]
  },
  {
   "cell_type": "markdown",
   "metadata": {},
   "source": [
    "Looks like the t test is positive, meaning the mean time spent on our website is greater than 120 and the p value is smaller than the 0.05 threshold meaning we have enough evidence to reject the null hypothesis. this difference is statistically significant"
   ]
  },
  {
   "cell_type": "markdown",
   "metadata": {},
   "source": [
    "### Categorical data\n",
    "\n",
    "#### chi squared test"
   ]
  },
  {
   "cell_type": "code",
   "execution_count": 29,
   "metadata": {},
   "outputs": [
    {
     "name": "stdout",
     "output_type": "stream",
     "text": [
      "Counter({6: 366, 2: 347, 3: 334, 4: 328, 1: 324, 5: 301})\n"
     ]
    }
   ],
   "source": [
    "#generate a biased dice rolls\n",
    "probs = np.array([0.164, 0.164, 0.164, 0.164, 0.164, 0.18])\n",
    "biased_rolls = np.random.choice(range(1, 7), replace=True, size = 2000, p=probs)\n",
    "\n",
    "#count occurances of each roll\n",
    "from collections import Counter\n",
    "occurances = Counter(biased_rolls)\n",
    "print(occurances)"
   ]
  },
  {
   "cell_type": "markdown",
   "metadata": {},
   "source": [
    "Is this dice fair? to check this we perform a $\\chi^2$ test. this will help to determine if there is statistical significance between the observed and expected counts"
   ]
  },
  {
   "cell_type": "code",
   "execution_count": 30,
   "metadata": {},
   "outputs": [
    {
     "name": "stdout",
     "output_type": "stream",
     "text": [
      "if the null hypothesis is true we would expect each count to be 333.3333333333333\n"
     ]
    }
   ],
   "source": [
    "print(f\"if the null hypothesis is true we would expect each count to be {2000/6}\")"
   ]
  },
  {
   "cell_type": "markdown",
   "metadata": {},
   "source": [
    "*test statistic*\n",
    "$$ \\chi^2 = \\sum_{k=1}^6\\frac{(obs_k - exp_k)^2}{exp_k} $$"
   ]
  },
  {
   "cell_type": "code",
   "execution_count": 31,
   "metadata": {},
   "outputs": [
    {
     "name": "stdout",
     "output_type": "stream",
     "text": [
      "7.246\n"
     ]
    }
   ],
   "source": [
    "expected = 1/6 * 2000\n",
    "chisq = 0\n",
    "for i in range(1, 7):\n",
    "    observed = occurances[i]\n",
    "    chisq += ((observed - expected)**2)/expected\n",
    "\n",
    "print(chisq)"
   ]
  },
  {
   "cell_type": "code",
   "execution_count": 32,
   "metadata": {},
   "outputs": [
    {
     "data": {
      "text/plain": [
       "7.246"
      ]
     },
     "execution_count": 32,
     "metadata": {},
     "output_type": "execute_result"
    }
   ],
   "source": [
    "\n",
    "def find_chisq(counts:dict, size:int) -> float:\n",
    "    \"\"\"\" \n",
    "    Parameters:\n",
    "    - counts: the counter dictionary of outcomes\n",
    "    - size: sample size\n",
    "\n",
    "    Returns:\n",
    "    - chisq\n",
    "    \"\"\"\n",
    "    expected = 1/6*size\n",
    "    chisq = 0\n",
    "    for i in range(1, 7):\n",
    "        observed = counts[i]\n",
    "        chisq += ((observed - expected)**2)/expected\n",
    "\n",
    "    return chisq\n",
    "\n",
    "find_chisq(counts=occurances, size = 2000)\n"
   ]
  },
  {
   "cell_type": "code",
   "execution_count": 34,
   "metadata": {},
   "outputs": [
    {
     "data": {
      "image/png": "[encoded data removed]",
      "text/plain": [
       "<Figure size 432x288 with 1 Axes>"
      ]
     },
     "metadata": {
      "needs_background": "light"
     },
     "output_type": "display_data"
    }
   ],
   "source": [
    "# p value: compare test statistic to the chi squared distribution and \n",
    "#find the area under the curve for anything greater than the test statistic\n",
    "\n",
    "x = np.arange(0, 15, 0.01)\n",
    "y = stats.chi2.pdf(x, 5)\n",
    "fill_x = np.arange(7.246, 15, 0.01)\n",
    "fill_y = stats.chi2.pdf(fill_x, 5)\n",
    "\n",
    "\n",
    "plt.figure()\n",
    "plt.plot(x, y)\n",
    "plt.fill_between(fill_x, fill_y)\n",
    "plt.show()"
   ]
  },
  {
   "cell_type": "code",
   "execution_count": 35,
   "metadata": {},
   "outputs": [
    {
     "data": {
      "text/plain": [
       "Power_divergenceResult(statistic=7.246, pvalue=0.20297838979881438)"
      ]
     },
     "execution_count": 35,
     "metadata": {},
     "output_type": "execute_result"
    }
   ],
   "source": [
    "counts_list = [occurances[i] for i in range(1, 7)]\n",
    "stats.chisquare(counts_list)"
   ]
  },
  {
   "cell_type": "markdown",
   "metadata": {},
   "source": [
    "Assuming the dice is unbiased (all outcomes are equally likely), there is a 20.3% chance of obtaining the observed counts. This is a high probability (greater than the 0.05 threshold), so we fail to reject the null (we can't conclude the dice is biased)"
   ]
  },
  {
   "cell_type": "code",
   "execution_count": 36,
   "metadata": {},
   "outputs": [],
   "source": [
    "#we can also compare independence accross multiple categories using\n",
    "#chi2_contigency() function"
   ]
  },
  {
   "cell_type": "markdown",
   "metadata": {},
   "source": [
    "Assumptions:\n",
    "- data should be frequencies\n",
    "- levels (categories, e.g. dice rolls) are mutually exclusive\n",
    "- study groups are independent"
   ]
  },
  {
   "cell_type": "markdown",
   "metadata": {},
   "source": [
    "### Type I and Type II errors"
   ]
  },
  {
   "cell_type": "markdown",
   "metadata": {},
   "source": [
    "This is when we incorrectly reject or fail to reject the null. \n",
    "- Type I: false positive - we reject the null while it is true (we say there is an effect while there isn't)\n",
    "- Type II: false negative - we fail to reject the null while it is not true (we say there is no effect, while there is)\n"
   ]
  },
  {
   "cell_type": "markdown",
   "metadata": {},
   "source": [
    "# LEARN MORE ABOUT BONFERRONI CORRECTION AND HOLM-BONFRERRONI METHOD"
   ]
  }
 ],
 "metadata": {
  "kernelspec": {
   "display_name": "Python 3.9.12 ('base')",
   "language": "python",
   "name": "python3"
  },
  "language_info": {
   "codemirror_mode": {
    "name": "ipython",
    "version": 3
   },
   "file_extension": ".py",
   "mimetype": "text/x-python",
   "name": "python",
   "nbconvert_exporter": "python",
   "pygments_lexer": "ipython3",
   "version": "3.9.12"
  },
  "orig_nbformat": 4,
  "vscode": {
   "interpreter": {
    "hash": "b09fb76671cc417157557290b6d443bf1459bd305c8e4ba26dbf59e96553c659"
   }
  }
 },
 "nbformat": 4,
 "nbformat_minor": 2
}
