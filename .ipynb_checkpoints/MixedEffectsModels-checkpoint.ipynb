{
 "cells": [
  {
   "cell_type": "markdown",
   "id": "62b6ec25",
   "metadata": {},
   "source": [
    "# Linear Mixed Effects Models (LMEM)"
   ]
  },
  {
   "cell_type": "markdown",
   "id": "56ad8706",
   "metadata": {},
   "source": [
    "## Introduction"
   ]
  },
  {
   "cell_type": "markdown",
   "id": "760f3457",
   "metadata": {},
   "source": [
    "The traditional regression models assume independence between observations in the dataset. However, this assumption can be unrealistic IRL since we may have multiple observations per person over time, or observations that are obtained from a group of people that share characteristics that may influence the outcome. Here we can not use a linear or logistic regression to model the outcome. That's where mixed effects/hierarchical/multilevel/varying coefficient models come in. \n",
    "\n",
    "The random effects model where coefficients vary across clusters is\n",
    "\n",
    "$$\n",
    "Y_{ij} = \\beta_{0i} + \\beta_{1}X_{ij} + \\epsilon_{ij}\n",
    "$$\n",
    "\n",
    "In this model, i represents the cluster, j represents the observation within cluster, and $Y_{ij}$ is the outcome for cluster i's observation j. \n",
    "\n",
    "Also, for this specic model, the intercept was specified for each of the cluster and can be rewritten as \n",
    "\n",
    "$$\n",
    "\\beta_{0i} = \\beta_0 + u_i\n",
    "$$\n",
    "\n",
    "- $\\beta_0$ is the part of the intercept common to all clusters\n",
    "- $u_i$ is the part of the intercept specific to each cluster. This means that this the random variation in the outcome that is not explained by $\\beta_0$\n",
    "    - $u_i$ is assumed to be random, therefore the name \"random effect model\"\n",
    "    - It is also assumed to follow a normal distribution distribution with unknown variance\n",
    "    \n",
    "    $$\n",
    "    u_i \\sim N(0, \\sigma^2_{u})\n",
    "    $$\n",
    "\n",
    "The traditional linear regression model can be seen as a special casse of the mixed model where $u_i$ = 0 for all i\n",
    "\n",
    "Therefore, the random intercept model above, can be rewritten as follows for clarity: \n",
    "\n",
    "$$\n",
    "Y_{ij} = \\beta_{0} + u_i + \\beta_{1}X_{ij} + \\epsilon_{ij}\n",
    "$$\n",
    "\n",
    "- $\\epsilon_{ij}$ are the errors of the model and represent the random variation in the outcome that is not not explained by both the fixed and random effects. They are all assumed to be independent of each other. WHY? THEY CAN ALSO BE DEPENDENT? They are also assumed to follow a normal distribution with mean zero and unknown variance.\n",
    "\n",
    "$$\n",
    "\\epsilon_{ij} \\sim N(0, \\sigma^2_{\\epsilon})\n",
    "$$\n",
    "\n",
    "And finally, $\\epsilon_{ij}$ and $u_i$ are independent of each other. \n",
    "\n",
    "### Independence between $\\epsilon_{ij}$ and $u_i$\n",
    "\n",
    "The random variation in the response variable that is not explained by the fixed and random effects ($\\epsilon_{ij}$) is not related to the random variation among the clusters ( $u_i$). This means that knowing the value of one for a specific cluster $i$ does not provide any information about the size or the direction of the other.  This allows us to estimate the variances of the random effects and the residual errors separately, which is necessary for accurate inference\n",
    "\n",
    "Expectation of the outcome is the same as in the traditional linear regression model where\n",
    "\n",
    "$$\n",
    "E[Y_{ij}|X_{ij}] = \\beta_0 + \\beta_1X_{ij}\n",
    "$$\n",
    "\n",
    "while the varianc of the oucome, which is **marginal** over $u_i$ is\n",
    "\n",
    "$$\n",
    "Var[Y_{ij}|X_{ij}] = Var[u_i] + Var[\\epsilon_{ij}] \\\\\n",
    "                    = \\sigma^2_{u} + \\sigma^2_{\\epsilon}\n",
    "$$"
   ]
  },
  {
   "cell_type": "code",
   "execution_count": 1,
   "id": "6e48988e",
   "metadata": {
    "collapsed": true
   },
   "outputs": [
    {
     "name": "stderr",
     "output_type": "stream",
     "text": [
      "── \u001b[1mAttaching packages\u001b[22m ────────────────────────────────── tidyverse 1.3.2 ──\n",
      "\u001b[32m✔\u001b[39m \u001b[34mggplot2\u001b[39m 3.4.1     \u001b[32m✔\u001b[39m \u001b[34mpurrr  \u001b[39m 1.0.1\n",
      "\u001b[32m✔\u001b[39m \u001b[34mtibble \u001b[39m 3.2.0     \u001b[32m✔\u001b[39m \u001b[34mdplyr  \u001b[39m 1.1.0\n",
      "\u001b[32m✔\u001b[39m \u001b[34mtidyr  \u001b[39m 1.3.0     \u001b[32m✔\u001b[39m \u001b[34mstringr\u001b[39m 1.5.0\n",
      "\u001b[32m✔\u001b[39m \u001b[34mreadr  \u001b[39m 2.1.3     \u001b[32m✔\u001b[39m \u001b[34mforcats\u001b[39m 1.0.0\n",
      "── \u001b[1mConflicts\u001b[22m ───────────────────────────────────── tidyverse_conflicts() ──\n",
      "\u001b[31m✖\u001b[39m \u001b[34mdplyr\u001b[39m::\u001b[32mfilter()\u001b[39m masks \u001b[34mstats\u001b[39m::filter()\n",
      "\u001b[31m✖\u001b[39m \u001b[34mdplyr\u001b[39m::\u001b[32mlag()\u001b[39m    masks \u001b[34mstats\u001b[39m::lag()\n",
      "\n",
      "Attachement du package : ‘data.table’\n",
      "\n",
      "\n",
      "Les objets suivants sont masqués depuis ‘package:dplyr’:\n",
      "\n",
      "    between, first, last\n",
      "\n",
      "\n",
      "L'objet suivant est masqué depuis ‘package:purrr’:\n",
      "\n",
      "    transpose\n",
      "\n",
      "\n"
     ]
    }
   ],
   "source": [
    "# load libraries\n",
    "library(tidyverse)\n",
    "library(data.table)"
   ]
  },
  {
   "cell_type": "code",
   "execution_count": 3,
   "id": "ded9d160",
   "metadata": {},
   "outputs": [
    {
     "data": {
      "text/html": [
       "<table class=\"dataframe\">\n",
       "<caption>A tibble: 6 × 11</caption>\n",
       "<thead>\n",
       "\t<tr><th scope=col>obs</th><th scope=col>school</th><th scope=col>normexam</th><th scope=col>schgend</th><th scope=col>schavg</th><th scope=col>vr</th><th scope=col>intake</th><th scope=col>standLRT</th><th scope=col>sex</th><th scope=col>type</th><th scope=col>student</th></tr>\n",
       "\t<tr><th scope=col>&lt;dbl&gt;</th><th scope=col>&lt;dbl&gt;</th><th scope=col>&lt;dbl&gt;</th><th scope=col>&lt;chr&gt;</th><th scope=col>&lt;dbl&gt;</th><th scope=col>&lt;chr&gt;</th><th scope=col>&lt;chr&gt;</th><th scope=col>&lt;dbl&gt;</th><th scope=col>&lt;chr&gt;</th><th scope=col>&lt;chr&gt;</th><th scope=col>&lt;dbl&gt;</th></tr>\n",
       "</thead>\n",
       "<tbody>\n",
       "\t<tr><td>1</td><td>1</td><td> 0.2613242</td><td>mixed</td><td>0.1661752</td><td>mid 50%</td><td>bottom 25%</td><td> 0.6190592</td><td>F</td><td>Mxd</td><td>143</td></tr>\n",
       "\t<tr><td>2</td><td>1</td><td> 0.1340672</td><td>mixed</td><td>0.1661752</td><td>mid 50%</td><td>mid 50%   </td><td> 0.2058022</td><td>F</td><td>Mxd</td><td>145</td></tr>\n",
       "\t<tr><td>3</td><td>1</td><td>-1.7238820</td><td>mixed</td><td>0.1661752</td><td>mid 50%</td><td>top 25%   </td><td>-1.3645760</td><td>M</td><td>Mxd</td><td>142</td></tr>\n",
       "\t<tr><td>4</td><td>1</td><td> 0.9675862</td><td>mixed</td><td>0.1661752</td><td>mid 50%</td><td>mid 50%   </td><td> 0.2058022</td><td>F</td><td>Mxd</td><td>141</td></tr>\n",
       "\t<tr><td>5</td><td>1</td><td> 0.5443412</td><td>mixed</td><td>0.1661752</td><td>mid 50%</td><td>mid 50%   </td><td> 0.3711052</td><td>F</td><td>Mxd</td><td>138</td></tr>\n",
       "\t<tr><td>6</td><td>1</td><td> 1.7348992</td><td>mixed</td><td>0.1661752</td><td>mid 50%</td><td>bottom 25%</td><td> 2.1894372</td><td>M</td><td>Mxd</td><td>155</td></tr>\n",
       "</tbody>\n",
       "</table>\n"
      ],
      "text/latex": [
       "A tibble: 6 × 11\n",
       "\\begin{tabular}{lllllllllll}\n",
       " obs & school & normexam & schgend & schavg & vr & intake & standLRT & sex & type & student\\\\\n",
       " <dbl> & <dbl> & <dbl> & <chr> & <dbl> & <chr> & <chr> & <dbl> & <chr> & <chr> & <dbl>\\\\\n",
       "\\hline\n",
       "\t 1 & 1 &  0.2613242 & mixed & 0.1661752 & mid 50\\% & bottom 25\\% &  0.6190592 & F & Mxd & 143\\\\\n",
       "\t 2 & 1 &  0.1340672 & mixed & 0.1661752 & mid 50\\% & mid 50\\%    &  0.2058022 & F & Mxd & 145\\\\\n",
       "\t 3 & 1 & -1.7238820 & mixed & 0.1661752 & mid 50\\% & top 25\\%    & -1.3645760 & M & Mxd & 142\\\\\n",
       "\t 4 & 1 &  0.9675862 & mixed & 0.1661752 & mid 50\\% & mid 50\\%    &  0.2058022 & F & Mxd & 141\\\\\n",
       "\t 5 & 1 &  0.5443412 & mixed & 0.1661752 & mid 50\\% & mid 50\\%    &  0.3711052 & F & Mxd & 138\\\\\n",
       "\t 6 & 1 &  1.7348992 & mixed & 0.1661752 & mid 50\\% & bottom 25\\% &  2.1894372 & M & Mxd & 155\\\\\n",
       "\\end{tabular}\n"
      ],
      "text/markdown": [
       "\n",
       "A tibble: 6 × 11\n",
       "\n",
       "| obs &lt;dbl&gt; | school &lt;dbl&gt; | normexam &lt;dbl&gt; | schgend &lt;chr&gt; | schavg &lt;dbl&gt; | vr &lt;chr&gt; | intake &lt;chr&gt; | standLRT &lt;dbl&gt; | sex &lt;chr&gt; | type &lt;chr&gt; | student &lt;dbl&gt; |\n",
       "|---|---|---|---|---|---|---|---|---|---|---|\n",
       "| 1 | 1 |  0.2613242 | mixed | 0.1661752 | mid 50% | bottom 25% |  0.6190592 | F | Mxd | 143 |\n",
       "| 2 | 1 |  0.1340672 | mixed | 0.1661752 | mid 50% | mid 50%    |  0.2058022 | F | Mxd | 145 |\n",
       "| 3 | 1 | -1.7238820 | mixed | 0.1661752 | mid 50% | top 25%    | -1.3645760 | M | Mxd | 142 |\n",
       "| 4 | 1 |  0.9675862 | mixed | 0.1661752 | mid 50% | mid 50%    |  0.2058022 | F | Mxd | 141 |\n",
       "| 5 | 1 |  0.5443412 | mixed | 0.1661752 | mid 50% | mid 50%    |  0.3711052 | F | Mxd | 138 |\n",
       "| 6 | 1 |  1.7348992 | mixed | 0.1661752 | mid 50% | bottom 25% |  2.1894372 | M | Mxd | 155 |\n",
       "\n"
      ],
      "text/plain": [
       "  obs school normexam   schgend schavg    vr      intake     standLRT   sex\n",
       "1 1   1       0.2613242 mixed   0.1661752 mid 50% bottom 25%  0.6190592 F  \n",
       "2 2   1       0.1340672 mixed   0.1661752 mid 50% mid 50%     0.2058022 F  \n",
       "3 3   1      -1.7238820 mixed   0.1661752 mid 50% top 25%    -1.3645760 M  \n",
       "4 4   1       0.9675862 mixed   0.1661752 mid 50% mid 50%     0.2058022 F  \n",
       "5 5   1       0.5443412 mixed   0.1661752 mid 50% mid 50%     0.3711052 F  \n",
       "6 6   1       1.7348992 mixed   0.1661752 mid 50% bottom 25%  2.1894372 M  \n",
       "  type student\n",
       "1 Mxd  143    \n",
       "2 Mxd  145    \n",
       "3 Mxd  142    \n",
       "4 Mxd  141    \n",
       "5 Mxd  138    \n",
       "6 Mxd  155    "
      ]
     },
     "metadata": {},
     "output_type": "display_data"
    }
   ],
   "source": [
    "# load data\n",
    "exam = read_csv(\"./lmedata/exam.csv\", show_col_types = FALSE)\n",
    "head(exam)"
   ]
  },
  {
   "cell_type": "code",
   "execution_count": null,
   "id": "31635791",
   "metadata": {},
   "outputs": [],
   "source": []
  }
 ],
 "metadata": {
  "kernelspec": {
   "display_name": "R",
   "language": "R",
   "name": "r"
  },
  "language_info": {
   "codemirror_mode": "r",
   "file_extension": ".r",
   "mimetype": "text/x-r-source",
   "name": "R",
   "pygments_lexer": "r",
   "version": "4.2.1"
  }
 },
 "nbformat": 4,
 "nbformat_minor": 5
}
